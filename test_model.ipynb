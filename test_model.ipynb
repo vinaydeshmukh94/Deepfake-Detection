{
 "cells": [
  {
   "cell_type": "code",
   "execution_count": 1,
   "metadata": {},
   "outputs": [],
   "source": [
    "import warnings\n",
    "warnings.filterwarnings(\"ignore\")\n",
    "import tensorflow as tf\n",
    "import dlib\n",
    "import cv2\n",
    "import os\n",
    "import numpy as np\n",
    "from tensorflow.keras.models import load_model\n",
    "from tensorflow.keras.preprocessing.image import img_to_array, load_img\n",
    "import matplotlib.pyplot as plt"
   ]
  },
  {
   "cell_type": "code",
   "execution_count": 2,
   "metadata": {},
   "outputs": [],
   "source": [
    "model = load_model('deepfake-detection-model.h5')"
   ]
  },
  {
   "cell_type": "code",
   "execution_count": null,
   "metadata": {},
   "outputs": [],
   "source": [
    "input_shape = (128, 128, 3)\n",
    "pr_data = []\n",
    "croped_images = []\n",
    "detector = dlib.get_frontal_face_detector()\n",
    "cap = cv2.VideoCapture('v2.mp4')\n",
    "ret,frame = cap.read()\n",
    "\n",
    "frameRate = cap.get(1)\n",
    "k=1\n",
    "while cap.isOpened():\n",
    "\n",
    "    frameId = cap.get(1)\n",
    "    ret, frame = cap.read()\n",
    "    if ret != True:\n",
    "        break\n",
    "    if frameId % ((int(frameRate)+1)*1) == 0:\n",
    "        face_rects, scores, idx = detector.run(frame, 0)\n",
    "        for i, d in enumerate(face_rects):\n",
    "            x1 = d.left()\n",
    "            y1 = d.top()\n",
    "            x2 = d.right()\n",
    "            y2 = d.bottom()\n",
    "            crop_img = frame[y1:y2, x1:x2]\n",
    "            if(len(crop_img)==0):\n",
    "                continue\n",
    "            croped_images.append(crop_img)\n",
    "            data = img_to_array(cv2.resize(crop_img, (128, 128))).flatten() / 255.0\n",
    "            data = data.reshape(-1, 128, 128, 3)\n",
    "            pr_data.append(int(model.predict_classes(data)))\n",
    "#             print(model.predict_classes(data))\n",
    "\n",
    "print(list(pr_data))\n",
    "print(len(pr_data))"
   ]
  },
  {
   "cell_type": "code",
   "execution_count": null,
   "metadata": {},
   "outputs": [],
   "source": [
    "import math as m\n",
    "axes=[]\n",
    "fig=plt.figure(figsize=(18,18))\n",
    "r=np.sqrt(len(croped_images))+1\n",
    "c = m.ceil(len(croped_images)/r)+1\n",
    "for i in range(0, len(croped_images)):\n",
    "    axes.append(fig.add_subplot(r, c, i+1))\n",
    "    if pr_data[i]==0:\n",
    "        t=\"fake\"\n",
    "    else:\n",
    "        t=\"real\"\n",
    "    plt.title(t)\n",
    "    img = cv2.cvtColor(croped_images[i], cv2.COLOR_BGR2RGB)\n",
    "    plt.imshow(img, aspect='auto')\n",
    "    video.write(frame)\n",
    "plt.show()"
   ]
  },
  {
   "cell_type": "code",
   "execution_count": null,
   "metadata": {},
   "outputs": [],
   "source": [
    "print(\"Number of extracted frames:\", len(pr_data))\n",
    "print(\"Probability that video is from real class:\",np.mean(pr_data))"
   ]
  }
 ],
 "metadata": {
  "kernelspec": {
   "display_name": "Python 3",
   "language": "python",
   "name": "python3"
  },
  "language_info": {
   "codemirror_mode": {
    "name": "ipython",
    "version": 3
   },
   "file_extension": ".py",
   "mimetype": "text/x-python",
   "name": "python",
   "nbconvert_exporter": "python",
   "pygments_lexer": "ipython3",
   "version": "3.7.9"
  }
 },
 "nbformat": 4,
 "nbformat_minor": 4
}
